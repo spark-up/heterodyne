{
 "cells": [
  {
   "cell_type": "code",
   "execution_count": null,
   "metadata": {
    "scrolled": true
   },
   "outputs": [],
   "source": [
    "#Copyright 2020 Vraj Shah, Arun Kumar\n",
    "#\n",
    "#Licensed under the Apache License, Version 2.0 (the \"License\");\n",
    "#you may not use this file except in compliance with the License.\n",
    "#You may obtain a copy of the License at\n",
    "#\n",
    "#    http://www.apache.org/licenses/LICENSE-2.0\n",
    "#\n",
    "#Unless required by applicable law or agreed to in writing, software\n",
    "#distributed under the License is distributed on an \"AS IS\" BASIS,\n",
    "#WITHOUT WARRANTIES OR CONDITIONS OF ANY KIND, either express or implied.\n",
    "#See the License for the specific language governing permissions and\n",
    "#limitations under the License.\n",
    "\n",
    "from Load_Predictions import *\n",
    "from downstream_models import *\n",
    "from Featurize import *\n",
    "from sklearn import metrics\n",
    "from sklearn.metrics import confusion_matrix, accuracy_score\n",
    "from autogluon import TabularPrediction as task\n",
    "import copy\n",
    "import warnings\n",
    "warnings.filterwarnings(\"ignore\")"
   ]
  },
  {
   "cell_type": "code",
   "execution_count": null,
   "metadata": {},
   "outputs": [],
   "source": [
    "# Numeric': 0,\n",
    "# Categorical': 1,\n",
    "# Datetime':2,\n",
    "# Sentence':3,\n",
    "# URL': 4,\n",
    "# Numbers': 5,\n",
    "# List': 6,\n",
    "# Unusable': 7,\n",
    "# Custom Object': 8"
   ]
  },
  {
   "cell_type": "code",
   "execution_count": null,
   "metadata": {},
   "outputs": [],
   "source": [
    "# Input from user\n",
    "\n",
    "classification = 1\n",
    "regression = 0\n",
    "InputFilePath = 'datasets/supreme.csv'\n",
    "TargetColumn = 'binaryClass'\n",
    "TruthVector = [1,1,1,1,1,1,1] ### choose input from the dictionary above"
   ]
  },
  {
   "cell_type": "code",
   "execution_count": null,
   "metadata": {
    "scrolled": true
   },
   "outputs": [],
   "source": [
    "file = InputFilePath\n",
    "target_col = TargetColumn\n",
    "\n",
    "dataDownstream = pd.read_csv(file)\n",
    "print(dataDownstream.head(5))\n",
    "y = dataDownstream[[target_col]]\n",
    "dataDownstream = dataDownstream.drop(target_col, axis=1)\n",
    "\n",
    "dataFeaturized = FeaturizeFile(dataDownstream)\n",
    "\n",
    "dataFeaturized1 = ProcessStats(dataFeaturized)\n",
    "dataFeaturized2 = FeatureExtraction(dataFeaturized,dataFeaturized1,0)\n",
    "dataFeaturized2 = dataFeaturized2.fillna(0)\n",
    "print(dataFeaturized2)"
   ]
  },
  {
   "cell_type": "code",
   "execution_count": null,
   "metadata": {
    "scrolled": true
   },
   "outputs": [],
   "source": [
    "y_RF = Load_RF(dataFeaturized2)\n",
    "y_pandas = Load_Pandas(dataDownstream)\n",
    "y_TFDV = Load_TFDV(dataDownstream)\n",
    "y_gl = Load_GLUON(dataDownstream , dataFeaturized)\n",
    "y_truth = TruthVector"
   ]
  },
  {
   "cell_type": "code",
   "execution_count": null,
   "metadata": {},
   "outputs": [],
   "source": [
    "y_gl"
   ]
  },
  {
   "cell_type": "code",
   "execution_count": null,
   "metadata": {},
   "outputs": [],
   "source": []
  },
  {
   "cell_type": "code",
   "execution_count": null,
   "metadata": {
    "scrolled": true
   },
   "outputs": [],
   "source": [
    "attribute_names = dataDownstream.columns.values.tolist()\n",
    "print(len(attribute_names))\n",
    "print(attribute_names)\n",
    "print(y_truth)\n",
    "print(y_RF)\n",
    "print(y_pandas)\n",
    "print(y_TFDV)\n",
    "print(y_gl)"
   ]
  },
  {
   "cell_type": "code",
   "execution_count": null,
   "metadata": {
    "scrolled": true
   },
   "outputs": [],
   "source": [
    "y_cur_lst = [y_truth,y_RF,y_pandas,y_TFDV,y_gl]\n",
    "for y_cur in y_cur_lst:\n",
    "    all_cols = Featurize(dataDownstream,attribute_names,y_cur)\n",
    "    print(all_cols)\n",
    "\n",
    "    if classification:\n",
    "        avgsc_train_lst_LR,avgsc_lst_LR,avgsc_hld_lst_LR = LogRegClassifier(all_cols,y)\n",
    "        avgsc_train_lst_RF,avgsc_lst_RF,avgsc_hld_lst_RF = RandForestClassifier(all_cols,y)\n",
    "\n",
    "    if regression:\n",
    "        avgsc_train_lst_LR,avgsc_lst_LR,avgsc_hld_lst_LR = LinearRegression(all_cols,y)\n",
    "        avgsc_train_lst_RF,avgsc_lst_RF,avgsc_hld_lst_RF = RandForestRegressor(all_cols,y)\n",
    "        \n",
    "    print('Linear Model:')\n",
    "    print(avgsc_train_lst_LR)\n",
    "    print(avgsc_lst_LR)\n",
    "    print(avgsc_hld_lst_LR)\n",
    "\n",
    "    print(np.mean(avgsc_train_lst_LR))\n",
    "    print(np.mean(avgsc_lst_LR))\n",
    "    print(np.mean(avgsc_hld_lst_LR))\n",
    "\n",
    "\n",
    "    print('Random Forest:')\n",
    "    print(avgsc_train_lst_RF)\n",
    "    print(avgsc_lst_RF)\n",
    "    print(avgsc_hld_lst_RF)\n",
    "\n",
    "    print(np.mean(avgsc_train_lst_RF))\n",
    "    print(np.mean(avgsc_lst_RF))\n",
    "    print(np.mean(avgsc_hld_lst_RF))        "
   ]
  },
  {
   "cell_type": "code",
   "execution_count": null,
   "metadata": {},
   "outputs": [],
   "source": []
  },
  {
   "cell_type": "code",
   "execution_count": null,
   "metadata": {},
   "outputs": [],
   "source": []
  }
 ],
 "metadata": {
  "kernelspec": {
   "display_name": "Python 3",
   "language": "python",
   "name": "python3"
  },
  "language_info": {
   "codemirror_mode": {
    "name": "ipython",
    "version": 3
   },
   "file_extension": ".py",
   "mimetype": "text/x-python",
   "name": "python",
   "nbconvert_exporter": "python",
   "pygments_lexer": "ipython3",
   "version": "3.7.6"
  },
  "toc": {
   "base_numbering": 1,
   "nav_menu": {},
   "number_sections": false,
   "sideBar": false,
   "skip_h1_title": false,
   "title_cell": "Table of Contents",
   "title_sidebar": "Contents",
   "toc_cell": false,
   "toc_position": {},
   "toc_section_display": false,
   "toc_window_display": false
  }
 },
 "nbformat": 4,
 "nbformat_minor": 4
}
