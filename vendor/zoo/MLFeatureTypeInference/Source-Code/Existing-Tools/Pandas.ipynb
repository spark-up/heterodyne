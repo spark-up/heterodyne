{
 "cells": [
  {
   "cell_type": "code",
   "execution_count": null,
   "metadata": {},
   "outputs": [],
   "source": [
    "#Copyright 2020 Vraj Shah, Arun Kumar\n",
    "#\n",
    "#Licensed under the Apache License, Version 2.0 (the \"License\");\n",
    "#you may not use this file except in compliance with the License.\n",
    "#You may obtain a copy of the License at\n",
    "#\n",
    "#    http://www.apache.org/licenses/LICENSE-2.0\n",
    "#\n",
    "#Unless required by applicable law or agreed to in writing, software\n",
    "#distributed under the License is distributed on an \"AS IS\" BASIS,\n",
    "#WITHOUT WARRANTIES OR CONDITIONS OF ANY KIND, either express or implied.\n",
    "#See the License for the specific language governing permissions and\n",
    "#limitations under the License.\n",
    "\n",
    "import pandas as pd\n",
    "from sklearn.metrics import accuracy_score\n",
    "from sklearn.metrics import confusion_matrix"
   ]
  },
  {
   "cell_type": "code",
   "execution_count": null,
   "metadata": {},
   "outputs": [],
   "source": [
    "def get_col_dtype(col):\n",
    "        \"\"\"\n",
    "        Identify datatype with pandas \n",
    "        \"\"\"\n",
    "        if col.dtype ==\"object\":\n",
    "            try:\n",
    "                col_new = pd.to_datetime(col)\n",
    "                return col_new.dtype\n",
    "            except:\n",
    "                try:\n",
    "                    col_new = pd.to_numeric(col)\n",
    "                    print(col_new.dtype)\n",
    "                    return col_new.dtype\n",
    "                except:\n",
    "                    return \"Object\"\n",
    "        if col.dtype ==\"bool\": return \"Object\"\n",
    "        else:\n",
    "            if col.dtype == 'float64' or col.dtype == 'int64':\n",
    "                return 'Numeric'\n",
    "            else:      \n",
    "                return col.dtype"
   ]
  },
  {
   "cell_type": "code",
   "execution_count": null,
   "metadata": {},
   "outputs": [],
   "source": [
    "testdf = pd.read_csv('../data_test.csv')\n",
    "test_metadata = pd.read_csv('../../RawCSV/Metadata/meta_data.csv')\n",
    "\n",
    "print(len(testdf),len(test_metadata))\n",
    "test_merged = pd.merge(testdf,test_metadata,on='Record_id')\n",
    "print(len(test_merged))\n",
    "\n",
    "print(test_merged)\n",
    "y_true = test_merged.y_act.values.tolist()\n",
    "print(y_true)\n",
    "print(len(y_true))"
   ]
  },
  {
   "cell_type": "code",
   "execution_count": null,
   "metadata": {},
   "outputs": [],
   "source": [
    "y_pandas = []\n",
    "prv_csv_name,csv_name = '',''\n",
    "exception_indices = []\n",
    "\n",
    "for index, row in test_merged.iterrows():     \n",
    "    if index%100==0:  print(index)\n",
    "    col = row['Attribute_name']\n",
    "    prv_csv_name = csv_name\n",
    "    csv_name = '../../RawCSV/' + row['name']\n",
    "    \n",
    "    print(csv_name)\n",
    "    print(col)\n",
    "\n",
    "    if prv_csv_name != csv_name:  df = pd.read_csv(csv_name,encoding='latin1')\n",
    "    \n",
    "    try:\n",
    "        curtype = get_col_dtype(df[col])\n",
    "    except KeyError:\n",
    "        curtype = 'Object'\n",
    "    print(curtype)\n",
    "    y_pandas.append(curtype)"
   ]
  },
  {
   "cell_type": "code",
   "execution_count": null,
   "metadata": {},
   "outputs": [],
   "source": [
    "print(len(y_pandas))"
   ]
  },
  {
   "cell_type": "code",
   "execution_count": null,
   "metadata": {
    "scrolled": true
   },
   "outputs": [],
   "source": [
    "dict_label = {\n",
    "    'Numeric': 0,\n",
    "    \"datetime64[ns]\": 2,\n",
    "    'datetime64[ns, UTC]': 2,\n",
    "    'datetime64[ns, pytz.FixedOffset(-240)]': 2,\n",
    "    'datetime64[ns, pytz.FixedOffset(-300)]': 2,\n",
    "    'datetime64[ns, pytz.FixedOffset(-60)]': 2,\n",
    "    'Object':8,\n",
    "    'bool':8\n",
    "}\n",
    "\n",
    "dict_label_true = {\n",
    "    'numeric': 0,\n",
    "    'categorical': 1,\n",
    "    'datetime': 2,\n",
    "    'sentence': 3,\n",
    "    'url': 4,\n",
    "    'embedded-number': 5,\n",
    "    'list': 6,\n",
    "    'not-generalizable': 7,\n",
    "    'context-specific': 8\n",
    "}\n",
    "\n",
    "y_true = [dict_label_true[str(i)] for i in y_true]\n",
    "y_pandas = [dict_label[str(i)] for i in y_pandas]\n",
    "# print(y_pandas)"
   ]
  },
  {
   "cell_type": "code",
   "execution_count": null,
   "metadata": {
    "scrolled": true
   },
   "outputs": [],
   "source": [
    "print(accuracy_score(y_true, y_pandas))\n",
    "print(confusion_matrix(y_true, y_pandas))"
   ]
  },
  {
   "cell_type": "code",
   "execution_count": null,
   "metadata": {},
   "outputs": [],
   "source": []
  },
  {
   "cell_type": "code",
   "execution_count": null,
   "metadata": {},
   "outputs": [],
   "source": []
  }
 ],
 "metadata": {
  "kernelspec": {
   "display_name": "Python 3",
   "language": "python",
   "name": "python3"
  },
  "language_info": {
   "codemirror_mode": {
    "name": "ipython",
    "version": 3
   },
   "file_extension": ".py",
   "mimetype": "text/x-python",
   "name": "python",
   "nbconvert_exporter": "python",
   "pygments_lexer": "ipython3",
   "version": "3.7.6"
  },
  "toc": {
   "base_numbering": 1,
   "nav_menu": {},
   "number_sections": false,
   "sideBar": false,
   "skip_h1_title": false,
   "title_cell": "Table of Contents",
   "title_sidebar": "Contents",
   "toc_cell": false,
   "toc_position": {},
   "toc_section_display": false,
   "toc_window_display": false
  }
 },
 "nbformat": 4,
 "nbformat_minor": 4
}
