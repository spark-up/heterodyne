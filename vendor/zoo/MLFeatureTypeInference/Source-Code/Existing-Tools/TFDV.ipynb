{
 "cells": [
  {
   "cell_type": "code",
   "execution_count": null,
   "metadata": {},
   "outputs": [],
   "source": [
    "#Copyright 2020 Vraj Shah, Arun Kumar\n",
    "#\n",
    "#Licensed under the Apache License, Version 2.0 (the \"License\");\n",
    "#you may not use this file except in compliance with the License.\n",
    "#You may obtain a copy of the License at\n",
    "#\n",
    "#    http://www.apache.org/licenses/LICENSE-2.0\n",
    "#\n",
    "#Unless required by applicable law or agreed to in writing, software\n",
    "#distributed under the License is distributed on an \"AS IS\" BASIS,\n",
    "#WITHOUT WARRANTIES OR CONDITIONS OF ANY KIND, either express or implied.\n",
    "#See the License for the specific language governing permissions and\n",
    "#limitations under the License.\n",
    "\n",
    "import tensorflow_data_validation as tfdv\n",
    "import pandas as pd\n",
    "import glob\n",
    "import pandas as pd\n",
    "from tqdm import tqdm\n",
    "import numpy as np\n",
    "import pandas as pd\n",
    "import os\n",
    "from pandas.api.types import is_numeric_dtype\n",
    "from collections import Counter,defaultdict\n",
    "\n",
    "from tensorflow_data_validation.utils.schema_util import get_feature,get_categorical_features,get_categorical_numeric_features,is_categorical_feature,get_multivalent_features\n",
    "from sklearn.metrics import accuracy_score\n",
    "from sklearn.metrics import confusion_matrix"
   ]
  },
  {
   "cell_type": "code",
   "execution_count": null,
   "metadata": {},
   "outputs": [],
   "source": [
    "testdf = pd.read_csv('../../Benchmark-Labeled-Data/data_test.csv')\n",
    "test_metadata = pd.read_csv('../RawCSV/Metadata/meta_data.csv')\n",
    "\n",
    "print(len(testdf),len(test_metadata))\n",
    "test_merged = pd.merge(testdf,test_metadata,on='Record_id')\n",
    "print(len(test_merged))\n",
    "\n",
    "print(test_merged)\n",
    "y_true = test_merged.y_act.values.tolist()\n",
    "print(y_true)\n",
    "print(len(y_true))"
   ]
  },
  {
   "cell_type": "code",
   "execution_count": null,
   "metadata": {
    "scrolled": true
   },
   "outputs": [],
   "source": [
    "cntExceptions = 0\n",
    "y_tfdv = [0]*1985\n",
    "prv_csv_name,csv_name = '',''\n",
    "exception_indices = []\n",
    "\n",
    "for index, row in test_merged.iterrows():       \n",
    "    if index%100==0: print(index)\n",
    "    col = row['Attribute_name']\n",
    "    prv_csv_name = csv_name\n",
    "    csv_name = '../../RawCSV/' + row['name']\n",
    "    \n",
    "    print(csv_name)\n",
    "    print(col)\n",
    "    \n",
    "    if prv_csv_name != csv_name:  df = pd.read_csv(csv_name,encoding='latin1')\n",
    "\n",
    "    try:\n",
    "        df_col = df[[col]]\n",
    "    except KeyError:\n",
    "        print('Exception Index:')\n",
    "        print(index)\n",
    "        y_tfdv[index]=1\n",
    "        exception_indices.append(row)\n",
    "        cntExceptions += 1\n",
    "        continue\n",
    "        \n",
    "    st_option = tfdv.StatsOptions(enable_semantic_domain_stats=True)\n",
    "    \n",
    "    try:\n",
    "        stats = tfdv.generate_statistics_from_dataframe(df_col,stats_options=st_option)\n",
    "    except:\n",
    "        print('Exception Index:')        \n",
    "        print(index)\n",
    "        y_tfdv[index]=1\n",
    "        exception_indices.append(index)        \n",
    "        continue\n",
    "        \n",
    "    schema = tfdv.infer_schema(statistics=stats)\n",
    "    \n",
    "    categ_lst = get_categorical_features(schema)\n",
    "    for x in categ_lst: \n",
    "        print('Categorical')\n",
    "        y_tfdv[index]=1\n",
    "        break\n",
    "    \n",
    "    xc = schema.feature\n",
    "    for x in xc:\n",
    "        cnt_NLD = str(x).count('natural_language_domain')\n",
    "        cnt_TD = str(x).count('time_domain')\n",
    "\n",
    "        if cnt_NLD:\n",
    "            print('Sentence')\n",
    "            y_tfdv[index] = 3\n",
    "        if cnt_TD:\n",
    "            print('Time')\n",
    "            y_tfdv[index] = 2   \n",
    "        \n",
    "    print()"
   ]
  },
  {
   "cell_type": "code",
   "execution_count": null,
   "metadata": {},
   "outputs": [],
   "source": [
    "dict_label_true = {\n",
    "    'numeric': 0,\n",
    "    'categorical': 1,\n",
    "    'datetime': 2,\n",
    "    'sentence': 3,\n",
    "    'url': 4,\n",
    "    'embedded-number': 5,\n",
    "    'list': 6,\n",
    "    'not-generalizable': 7,\n",
    "    'context-specific': 8\n",
    "}\n",
    "\n",
    "y_true = [dict_label_true[str(i)] for i in y_true]"
   ]
  },
  {
   "cell_type": "code",
   "execution_count": null,
   "metadata": {
    "scrolled": true
   },
   "outputs": [],
   "source": [
    "print(accuracy_score(y_true, y_tfdv))\n",
    "print(confusion_matrix(y_true, y_tfdv))"
   ]
  },
  {
   "cell_type": "code",
   "execution_count": null,
   "metadata": {
    "scrolled": true
   },
   "outputs": [],
   "source": []
  },
  {
   "cell_type": "code",
   "execution_count": null,
   "metadata": {
    "scrolled": true
   },
   "outputs": [],
   "source": []
  }
 ],
 "metadata": {
  "kernelspec": {
   "display_name": "Python 3",
   "language": "python",
   "name": "python3"
  },
  "language_info": {
   "codemirror_mode": {
    "name": "ipython",
    "version": 3
   },
   "file_extension": ".py",
   "mimetype": "text/x-python",
   "name": "python",
   "nbconvert_exporter": "python",
   "pygments_lexer": "ipython3",
   "version": "3.7.6"
  },
  "toc": {
   "base_numbering": 1,
   "nav_menu": {},
   "number_sections": false,
   "sideBar": false,
   "skip_h1_title": false,
   "title_cell": "Table of Contents",
   "title_sidebar": "Contents",
   "toc_cell": false,
   "toc_position": {},
   "toc_section_display": false,
   "toc_window_display": false
  }
 },
 "nbformat": 4,
 "nbformat_minor": 4
}
